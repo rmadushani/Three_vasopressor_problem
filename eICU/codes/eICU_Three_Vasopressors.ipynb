{
  "nbformat": 4,
  "nbformat_minor": 0,
  "metadata": {
    "colab": {
      "name": "eICU_Three_Vasopressors.ipynb",
      "provenance": [],
      "authorship_tag": "ABX9TyNL0+f06Zkxqv7CnywFkfgA",
      "include_colab_link": true
    },
    "kernelspec": {
      "name": "python3",
      "display_name": "Python 3"
    },
    "language_info": {
      "name": "python"
    }
  },
  "cells": [
    {
      "cell_type": "markdown",
      "metadata": {
        "id": "view-in-github",
        "colab_type": "text"
      },
      "source": [
        "<a href=\"https://colab.research.google.com/github/rmadushani/Three_vasopressor_problem/blob/main/eICU/codes/eICU_Three_Vasopressors.ipynb\" target=\"_parent\"><img src=\"https://colab.research.google.com/assets/colab-badge.svg\" alt=\"Open In Colab\"/></a>"
      ]
    },
    {
      "cell_type": "code",
      "execution_count": null,
      "metadata": {
        "id": "W_tJlrlCNm1S"
      },
      "outputs": [],
      "source": [
        "###\n",
        "# @author: R. W. M. A. Madushani\n",
        "# Created on Dec 20, 2019\n",
        "###"
      ]
    },
    {
      "cell_type": "code",
      "source": [
        "# Imports for accessing eICU data using Google BigQuery.\n",
        "from google.colab import auth\n",
        "from google.cloud import bigquery\n",
        "\n",
        "# Import libraries\n",
        "import os\n",
        "import pandas as pd\n",
        "import numpy as np"
      ],
      "metadata": {
        "id": "e7Al1sUmP152"
      },
      "execution_count": null,
      "outputs": []
    },
    {
      "cell_type": "code",
      "source": [
        "auth.authenticate_user()"
      ],
      "metadata": {
        "id": "6QNmjZvuRA75"
      },
      "execution_count": null,
      "outputs": []
    },
    {
      "cell_type": "code",
      "source": [
        "project_id = 'sccm-datathon'\n",
        "os.environ['GOOGLE_CLOUD_PROJECT'] = project_id"
      ],
      "metadata": {
        "id": "acriPmiyRJaH"
      },
      "execution_count": null,
      "outputs": []
    },
    {
      "cell_type": "code",
      "source": [
        "# Read data from BigQuery into pandas dataframes.\n",
        "def run_query(query):\n",
        "  return pd.io.gbq.read_gbq(\n",
        "      query,\n",
        "      project_id=project_id,\n",
        "      dialect='standard')"
      ],
      "metadata": {
        "id": "R-ACcfqoRJfO"
      },
      "execution_count": null,
      "outputs": []
    },
    {
      "cell_type": "code",
      "source": [
        "# Extract relevant patient data\n",
        "patient_dat_query = \\\n",
        "\"\"\"\n",
        "SELECT patientHealthSystemStayID, patientUnitStayID, uniquepid, gender, age, ethnicity, unitType, hospitalDischargeLocation, hospitalDischargeStatus\n",
        "FROM `physionet-data.eicu_crd.patient`\n",
        "\"\"\"\n",
        "\n",
        "patient_dat = run_query(patient_dat_query)\n",
        "\n",
        "## We consider only 'MICU', and 'Med-Surg ICU'\n",
        "patient_dat_new = patient_dat.loc[(patient_dat.unitType=='MICU') | (patient_dat.unitType=='Med-Surg ICU'),: ].copy()\n",
        "\n",
        "## Convert age>89 strings to numeric to extract patients with age>=18\n",
        "patient_dat_new['age_int'] = patient_dat_new['age'].apply(lambda x: 90 if x=='> 89' else (-999 if x=='' else int(x)))\n",
        "## Filter patients with age >= 18\n",
        "patient_dat_new = patient_dat_new.loc[patient_dat_new.age_int >= 18, :]\n",
        "\n",
        "## Remove records with missing hospital discharge status i.e., mortality\n",
        "patient_dat_new = patient_dat_new.loc[patient_dat_new.hospitalDischargeStatus!='', :]\n",
        "patient_dat_new.head()"
      ],
      "metadata": {
        "colab": {
          "base_uri": "https://localhost:8080/",
          "height": 205
        },
        "id": "gYVn5Tr5RJi5",
        "outputId": "0a17ba07-d2d8-458c-8548-73d3dcad33e8"
      },
      "execution_count": null,
      "outputs": [
        {
          "output_type": "execute_result",
          "data": {
            "text/html": [
              "\n",
              "  <div id=\"df-8d614987-9d41-4712-b3bd-08b08a33a67e\">\n",
              "    <div class=\"colab-df-container\">\n",
              "      <div>\n",
              "<style scoped>\n",
              "    .dataframe tbody tr th:only-of-type {\n",
              "        vertical-align: middle;\n",
              "    }\n",
              "\n",
              "    .dataframe tbody tr th {\n",
              "        vertical-align: top;\n",
              "    }\n",
              "\n",
              "    .dataframe thead th {\n",
              "        text-align: right;\n",
              "    }\n",
              "</style>\n",
              "<table border=\"1\" class=\"dataframe\">\n",
              "  <thead>\n",
              "    <tr style=\"text-align: right;\">\n",
              "      <th></th>\n",
              "      <th>patientHealthSystemStayID</th>\n",
              "      <th>patientUnitStayID</th>\n",
              "      <th>uniquepid</th>\n",
              "      <th>gender</th>\n",
              "      <th>age</th>\n",
              "      <th>ethnicity</th>\n",
              "      <th>unitType</th>\n",
              "      <th>hospitalDischargeLocation</th>\n",
              "      <th>hospitalDischargeStatus</th>\n",
              "      <th>age_int</th>\n",
              "    </tr>\n",
              "  </thead>\n",
              "  <tbody>\n",
              "    <tr>\n",
              "      <th>0</th>\n",
              "      <td>844848</td>\n",
              "      <td>1137569</td>\n",
              "      <td>011-43764</td>\n",
              "      <td>Female</td>\n",
              "      <td>75</td>\n",
              "      <td>Other/Unknown</td>\n",
              "      <td>MICU</td>\n",
              "      <td>Death</td>\n",
              "      <td>Expired</td>\n",
              "      <td>75</td>\n",
              "    </tr>\n",
              "    <tr>\n",
              "      <th>1</th>\n",
              "      <td>2462651</td>\n",
              "      <td>3036927</td>\n",
              "      <td>030-57208</td>\n",
              "      <td>Male</td>\n",
              "      <td>51</td>\n",
              "      <td>Caucasian</td>\n",
              "      <td>Med-Surg ICU</td>\n",
              "      <td>Home</td>\n",
              "      <td>Alive</td>\n",
              "      <td>51</td>\n",
              "    </tr>\n",
              "    <tr>\n",
              "      <th>2</th>\n",
              "      <td>2481889</td>\n",
              "      <td>3058863</td>\n",
              "      <td>030-13634</td>\n",
              "      <td>Female</td>\n",
              "      <td>31</td>\n",
              "      <td>Caucasian</td>\n",
              "      <td>Med-Surg ICU</td>\n",
              "      <td>Home</td>\n",
              "      <td>Alive</td>\n",
              "      <td>31</td>\n",
              "    </tr>\n",
              "    <tr>\n",
              "      <th>3</th>\n",
              "      <td>2494105</td>\n",
              "      <td>3072720</td>\n",
              "      <td>030-53536</td>\n",
              "      <td>Male</td>\n",
              "      <td>58</td>\n",
              "      <td>Caucasian</td>\n",
              "      <td>Med-Surg ICU</td>\n",
              "      <td>Home</td>\n",
              "      <td>Alive</td>\n",
              "      <td>58</td>\n",
              "    </tr>\n",
              "    <tr>\n",
              "      <th>4</th>\n",
              "      <td>2496542</td>\n",
              "      <td>3075429</td>\n",
              "      <td>030-59276</td>\n",
              "      <td>Female</td>\n",
              "      <td>68</td>\n",
              "      <td>Caucasian</td>\n",
              "      <td>Med-Surg ICU</td>\n",
              "      <td>Death</td>\n",
              "      <td>Expired</td>\n",
              "      <td>68</td>\n",
              "    </tr>\n",
              "  </tbody>\n",
              "</table>\n",
              "</div>\n",
              "      <button class=\"colab-df-convert\" onclick=\"convertToInteractive('df-8d614987-9d41-4712-b3bd-08b08a33a67e')\"\n",
              "              title=\"Convert this dataframe to an interactive table.\"\n",
              "              style=\"display:none;\">\n",
              "        \n",
              "  <svg xmlns=\"http://www.w3.org/2000/svg\" height=\"24px\"viewBox=\"0 0 24 24\"\n",
              "       width=\"24px\">\n",
              "    <path d=\"M0 0h24v24H0V0z\" fill=\"none\"/>\n",
              "    <path d=\"M18.56 5.44l.94 2.06.94-2.06 2.06-.94-2.06-.94-.94-2.06-.94 2.06-2.06.94zm-11 1L8.5 8.5l.94-2.06 2.06-.94-2.06-.94L8.5 2.5l-.94 2.06-2.06.94zm10 10l.94 2.06.94-2.06 2.06-.94-2.06-.94-.94-2.06-.94 2.06-2.06.94z\"/><path d=\"M17.41 7.96l-1.37-1.37c-.4-.4-.92-.59-1.43-.59-.52 0-1.04.2-1.43.59L10.3 9.45l-7.72 7.72c-.78.78-.78 2.05 0 2.83L4 21.41c.39.39.9.59 1.41.59.51 0 1.02-.2 1.41-.59l7.78-7.78 2.81-2.81c.8-.78.8-2.07 0-2.86zM5.41 20L4 18.59l7.72-7.72 1.47 1.35L5.41 20z\"/>\n",
              "  </svg>\n",
              "      </button>\n",
              "      \n",
              "  <style>\n",
              "    .colab-df-container {\n",
              "      display:flex;\n",
              "      flex-wrap:wrap;\n",
              "      gap: 12px;\n",
              "    }\n",
              "\n",
              "    .colab-df-convert {\n",
              "      background-color: #E8F0FE;\n",
              "      border: none;\n",
              "      border-radius: 50%;\n",
              "      cursor: pointer;\n",
              "      display: none;\n",
              "      fill: #1967D2;\n",
              "      height: 32px;\n",
              "      padding: 0 0 0 0;\n",
              "      width: 32px;\n",
              "    }\n",
              "\n",
              "    .colab-df-convert:hover {\n",
              "      background-color: #E2EBFA;\n",
              "      box-shadow: 0px 1px 2px rgba(60, 64, 67, 0.3), 0px 1px 3px 1px rgba(60, 64, 67, 0.15);\n",
              "      fill: #174EA6;\n",
              "    }\n",
              "\n",
              "    [theme=dark] .colab-df-convert {\n",
              "      background-color: #3B4455;\n",
              "      fill: #D2E3FC;\n",
              "    }\n",
              "\n",
              "    [theme=dark] .colab-df-convert:hover {\n",
              "      background-color: #434B5C;\n",
              "      box-shadow: 0px 1px 3px 1px rgba(0, 0, 0, 0.15);\n",
              "      filter: drop-shadow(0px 1px 2px rgba(0, 0, 0, 0.3));\n",
              "      fill: #FFFFFF;\n",
              "    }\n",
              "  </style>\n",
              "\n",
              "      <script>\n",
              "        const buttonEl =\n",
              "          document.querySelector('#df-8d614987-9d41-4712-b3bd-08b08a33a67e button.colab-df-convert');\n",
              "        buttonEl.style.display =\n",
              "          google.colab.kernel.accessAllowed ? 'block' : 'none';\n",
              "\n",
              "        async function convertToInteractive(key) {\n",
              "          const element = document.querySelector('#df-8d614987-9d41-4712-b3bd-08b08a33a67e');\n",
              "          const dataTable =\n",
              "            await google.colab.kernel.invokeFunction('convertToInteractive',\n",
              "                                                     [key], {});\n",
              "          if (!dataTable) return;\n",
              "\n",
              "          const docLinkHtml = 'Like what you see? Visit the ' +\n",
              "            '<a target=\"_blank\" href=https://colab.research.google.com/notebooks/data_table.ipynb>data table notebook</a>'\n",
              "            + ' to learn more about interactive tables.';\n",
              "          element.innerHTML = '';\n",
              "          dataTable['output_type'] = 'display_data';\n",
              "          await google.colab.output.renderOutput(dataTable, element);\n",
              "          const docLink = document.createElement('div');\n",
              "          docLink.innerHTML = docLinkHtml;\n",
              "          element.appendChild(docLink);\n",
              "        }\n",
              "      </script>\n",
              "    </div>\n",
              "  </div>\n",
              "  "
            ],
            "text/plain": [
              "   patientHealthSystemStayID  ...  age_int\n",
              "0                     844848  ...       75\n",
              "1                    2462651  ...       51\n",
              "2                    2481889  ...       31\n",
              "3                    2494105  ...       58\n",
              "4                    2496542  ...       68\n",
              "\n",
              "[5 rows x 10 columns]"
            ]
          },
          "metadata": {},
          "execution_count": 7
        }
      ]
    },
    {
      "cell_type": "code",
      "source": [
        ""
      ],
      "metadata": {
        "id": "XB8rDBhLRzb-"
      },
      "execution_count": null,
      "outputs": []
    }
  ]
}